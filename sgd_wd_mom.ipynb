{
 "cells": [
  {
   "cell_type": "code",
   "execution_count": 5,
   "metadata": {},
   "outputs": [],
   "source": [
    "%reload_ext autoreload\n",
    "%autoreload 2\n",
    "%matplotlib inline"
   ]
  },
  {
   "cell_type": "code",
   "execution_count": 6,
   "metadata": {},
   "outputs": [],
   "source": [
    "from fastai import *"
   ]
  },
  {
   "cell_type": "code",
   "execution_count": 7,
   "metadata": {},
   "outputs": [],
   "source": [
    "mnist_path = Path('~/.fastai/data/mnist').expanduser()"
   ]
  },
  {
   "cell_type": "markdown",
   "metadata": {},
   "source": [
    "MNIST as a dataset to illustrate the concepts of weight decay and momentum with SGD"
   ]
  },
  {
   "cell_type": "markdown",
   "metadata": {},
   "source": [
    "### Data"
   ]
  },
  {
   "cell_type": "markdown",
   "metadata": {},
   "source": [
    "basic pytorch only"
   ]
  },
  {
   "cell_type": "code",
   "execution_count": 8,
   "metadata": {},
   "outputs": [],
   "source": [
    "with gzip.open(mnist_path/'mnist.pkl.gz', 'rb') as f:\n",
    "    (x_train,y_train), (x_valid, y_valid),(_,_) = pickle.load(f, encoding='latin-1')"
   ]
  },
  {
   "cell_type": "code",
   "execution_count": 9,
   "metadata": {},
   "outputs": [],
   "source": [
    "x_train, y_train, x_valid, y_valid = map(torch.tensor, [x_train, y_train, x_valid, y_valid])"
   ]
  },
  {
   "cell_type": "code",
   "execution_count": 10,
   "metadata": {},
   "outputs": [],
   "source": [
    "train_ds = TensorDataset(x_train, y_train)\n",
    "valid_ds = TensorDataset(x_valid, y_valid)"
   ]
  },
  {
   "cell_type": "code",
   "execution_count": 11,
   "metadata": {},
   "outputs": [],
   "source": [
    "train_dl = DataLoader(train_ds, batch_size=64, shuffle=True)\n",
    "valid_dl = DataLoader(valid_ds, batch_size=64, shuffle=True)"
   ]
  },
  {
   "cell_type": "markdown",
   "metadata": {},
   "source": [
    "### Models"
   ]
  },
  {
   "cell_type": "markdown",
   "metadata": {},
   "source": [
    "regular logistic regression and a NN with one hidden layer"
   ]
  },
  {
   "cell_type": "code",
   "execution_count": 12,
   "metadata": {},
   "outputs": [],
   "source": [
    "class MnistLog(nn.Module):\n",
    "    def __init__(self):\n",
    "        super().__init__()\n",
    "        self.lin = nn.Linear(784, 10)\n",
    "        \n",
    "    def forward(self, xb):\n",
    "        return self.lin(xb)"
   ]
  },
  {
   "cell_type": "code",
   "execution_count": 13,
   "metadata": {},
   "outputs": [],
   "source": [
    "class MnistNN(nn.Module):\n",
    "    def __init__(self):\n",
    "        super().__init__()\n",
    "        self.lin1 = nn.Linear(784,100)\n",
    "        self.lin2 = nn.Linear(100,10)\n",
    "        \n",
    "    def forward(self, xb):\n",
    "        return self.lin2(F.relu(self.lin1(xb)))"
   ]
  },
  {
   "cell_type": "markdown",
   "metadata": {},
   "source": [
    "### Optimization"
   ]
  },
  {
   "cell_type": "markdown",
   "metadata": {},
   "source": [
    "we define step and fit not in a general purpose way, just so that we can see how weight decay and momentum work"
   ]
  },
  {
   "cell_type": "code",
   "execution_count": 14,
   "metadata": {},
   "outputs": [],
   "source": [
    "# lr=0.1\n",
    "# momemtum=0.9\n",
    "# wd = 0.1\n",
    "loss_fn = F.cross_entropy"
   ]
  },
  {
   "cell_type": "code",
   "execution_count": 15,
   "metadata": {},
   "outputs": [],
   "source": [
    "model = MnistLog()\n",
    "# model = MnistNN()"
   ]
  },
  {
   "cell_type": "code",
   "execution_count": 22,
   "metadata": {},
   "outputs": [],
   "source": [
    "def step(model,  momentum, lr=0.01, wd=0.01):\n",
    "    with torch.no_grad():\n",
    "        for p in model.parameters():\n",
    "            if hasattr(p, 'last_step') is False: p.last_step=torch.zeros_like(p.grad)\n",
    "            ## grad\n",
    "            current_step = lr*p.grad\n",
    "            ## weight decay\n",
    "            current_step.add_(lr*wd, p)\n",
    "            ## momentum\n",
    "            current_step.add_(momentum, p.last_step)\n",
    "            ## store and update\n",
    "            p.sub_(current_step)\n",
    "            p.last_step=current_step\n",
    "    model.zero_grad()\n",
    "    "
   ]
  },
  {
   "cell_type": "code",
   "execution_count": 23,
   "metadata": {},
   "outputs": [],
   "source": [
    "def _get_valid_accuracy(model):\n",
    "    return np.array([accuracy(model(xb),yb) for xb,yb in valid_dl]).mean()\n",
    "\n",
    "def fit(momentum=0.9, reset_model=False):\n",
    "    steps=0\n",
    "    if reset_model: model = MnistNN()\n",
    "    valid_accuracies=[]\n",
    "    for xb,yb in train_dl:\n",
    "        loss = loss_fn(model(xb), yb)\n",
    "        loss.backward()\n",
    "        step(model, momentum)\n",
    "\n",
    "        with torch.no_grad():\n",
    "            if steps%5==0:\n",
    "                valid_acc = _get_valid_accuracy(model)\n",
    "#                 print(valid_acc)\n",
    "                valid_accuracies.append(valid_acc)\n",
    "                if valid_acc>0.95:\n",
    "                    return valid_accuracies\n",
    "                    break\n",
    "        steps += 1\n",
    "    return valid_accuracies"
   ]
  },
  {
   "cell_type": "code",
   "execution_count": 24,
   "metadata": {},
   "outputs": [],
   "source": [
    "valid_accs_3 = fit(momentum=0.5, reset_model=True)\n",
    "valid_accs_2 = fit(momentum=0.0, reset_model=True)\n",
    "valid_accs_1 = fit(momentum=0.9, reset_model=True)"
   ]
  },
  {
   "cell_type": "code",
   "execution_count": 26,
   "metadata": {},
   "outputs": [
    {
     "data": {
      "text/plain": [
       "<matplotlib.legend.Legend at 0x7f03981ad780>"
      ]
     },
     "execution_count": 26,
     "metadata": {},
     "output_type": "execute_result"
    },
    {
     "data": {
      "image/png": "[encoded data removed]",
      "text/plain": [
       "<Figure size 432x288 with 1 Axes>"
      ]
     },
     "metadata": {
      "needs_background": "light"
     },
     "output_type": "display_data"
    }
   ],
   "source": [
    "_, ax = plt.subplots()\n",
    "ax.plot(valid_accs_1, label='momentum 0.9')\n",
    "ax.plot(valid_accs_2, label='momentum 0.0')\n",
    "ax.plot(valid_accs_3, label='momentum 0.5')\n",
    "plt.xlabel('# batches*5')\n",
    "plt.ylabel('validation accuracy')\n",
    "ax.legend()"
   ]
  },
  {
   "cell_type": "code",
   "execution_count": null,
   "metadata": {},
   "outputs": [],
   "source": []
  }
 ],
 "metadata": {
  "kernelspec": {
   "display_name": "Python [conda env:fastai-3.6]",
   "language": "python",
   "name": "conda-env-fastai-3.6-py"
  },
  "language_info": {
   "codemirror_mode": {
    "name": "ipython",
    "version": 3
   },
   "file_extension": ".py",
   "mimetype": "text/x-python",
   "name": "python",
   "nbconvert_exporter": "python",
   "pygments_lexer": "ipython3",
   "version": "3.6.6"
  }
 },
 "nbformat": 4,
 "nbformat_minor": 2
}
